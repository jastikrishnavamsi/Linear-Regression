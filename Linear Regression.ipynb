{
 "cells": [
  {
   "cell_type": "code",
   "execution_count": 85,
   "id": "0707d21e",
   "metadata": {},
   "outputs": [
    {
     "name": "stdout",
     "output_type": "stream",
     "text": [
      "Accuracy of model 1 0.7665259076825715\n",
      "Accuracy of model 2 0.39629060182249687\n",
      "Accuracy of model 3 0.4509337841110585\n",
      "Accuracy of model 4 1.7109761153888166\n",
      "Accuracy of model 5 0.6479920310855427\n",
      "Accuracy of model 6 0.6098040598606586\n",
      "weights of L2 regularization are  [-0.34326522] [0.75121129]\n",
      "weights of my model are  0.6530921908903053 0.12987011643938956\n"
     ]
    },
    {
     "data": {
      "image/png": "[encoded data removed]",
      "text/plain": [
       "<Figure size 432x288 with 1 Axes>"
      ]
     },
     "metadata": {
      "needs_background": "light"
     },
     "output_type": "display_data"
    }
   ],
   "source": [
    "class LinearRegression:\n",
    "    m = 0\n",
    "    c = 0\n",
    "    X_test=0\n",
    "    Y_test=0\n",
    "    X_train=0\n",
    "    Y_train=0\n",
    "    model=\"\"\n",
    "    def __init__(self,input_var, output_var,b):\n",
    "        x_train,x_test,y_train,y_test=train_test_split(input_var,output_var,test_size=0.1)\n",
    "        self.model = str(b)\n",
    "        self.X_train = x_train\n",
    "        self.Y_train = y_train\n",
    "        self.X_test = x_test\n",
    "        self.Y_test = y_test\n",
    "        self.fit(x_train,y_train,1000)\n",
    "\n",
    "    def predict(self):\n",
    "        Y_pred = self.m*self.X_test + self.c\n",
    "        return Y_pred\n",
    "\n",
    "\n",
    "    def fit(self,X,Y,epochs):\n",
    "        loss=[]\n",
    "        L = 0.0001\n",
    "\n",
    "        n = float(len(X))\n",
    "\n",
    "        for i in range(epochs): \n",
    "            Y_pred = self.m*X + self.c\n",
    "            error = Y - Y_pred\n",
    "            loss1=(1/(2*n))*(sum(error**2))\n",
    "            loss.append(loss1)\n",
    "            D_m = (-2/n) * sum(X * error)\n",
    "            D_c = (-2/n) * sum(error)\n",
    "            self.m = self.m - L * D_m\n",
    "            self.c = self.c - L * D_c\n",
    "        plt.plot(range(epochs),loss,label='model' + self.model)\n",
    "        plt.xlabel(\"No.of Iterations\")\n",
    "        plt.ylabel(\"Loss\")\n",
    "        plt.legend()\n",
    "        \n",
    "    \n",
    "from sklearn.datasets import load_iris,load_diabetes\n",
    "from sklearn import linear_model\n",
    "from sklearn.model_selection import train_test_split\n",
    "import math\n",
    "from sklearn.linear_model import Ridge\n",
    "import matplotlib.pyplot as plt\n",
    "from sklearn.metrics import mean_squared_error, r2_score\n",
    "import pandas as pd\n",
    "import numpy as np\n",
    "iris = load_iris()\n",
    "X=iris.data[:50]\n",
    "sl=iris.data[:np.newaxis,0]\n",
    "sw=iris.data[:np.newaxis,1]\n",
    "pl=iris.data[:np.newaxis,2]\n",
    "pw=iris.data[:np.newaxis,3]\n",
    "def ridge_regression(X_train, y_train, alpha=0.01):\n",
    "    X_train = X_train.reshape(-1,1)\n",
    "    y_train = y_train.reshape(-1,1)\n",
    "    rr = Ridge(alpha)\n",
    "    rr.fit(X_train, y_train) \n",
    "    pred_train_rr= rr.predict(X_train)\n",
    "\n",
    "    pred_test_rr= rr.predict(m1.X_test.reshape(-1,1))\n",
    "    print(\"weights of L2 regularization are \",rr.intercept_,rr.coef_[0])\n",
    "\n",
    "m1=LinearRegression(sl[:50],sw[:50],1)\n",
    "m2=LinearRegression(sl[:50],pl[:50],2)\n",
    "m3=LinearRegression(sl[50:100],pw[50:100],3)\n",
    "m4=LinearRegression(sw[50:100],pl[50:100],4)\n",
    "m5=LinearRegression(sw[100:150],pw[100:150],5)\n",
    "m6=LinearRegression(pl[100:150],pw[100:150],6)\n",
    "\n",
    "\n",
    "print(\"Accuracy of model 1\",math.sqrt(sum((m1.predict()-m1.Y_test)**2)))\n",
    "print(\"Accuracy of model 2\",math.sqrt(sum((m2.predict()-m2.Y_test)**2)))\n",
    "print(\"Accuracy of model 3\",math.sqrt(sum((m3.predict()-m3.Y_test)**2)))\n",
    "print(\"Accuracy of model 4\",math.sqrt(sum((m4.predict()-m4.Y_test)**2)))\n",
    "print(\"Accuracy of model 5\",math.sqrt(sum((m5.predict()-m5.Y_test)**2)))\n",
    "print(\"Accuracy of model 6\",math.sqrt(sum((m6.predict()-m6.Y_test)**2)))\n",
    "\n",
    "\n",
    "\n",
    "\n",
    "\n",
    "\n",
    "ridge_regression(m1.X_train,m1.Y_train)\n",
    "print(\"weights of my model are \",m1.m,m1.c)"
   ]
  },
  {
   "cell_type": "code",
   "execution_count": null,
   "id": "6de2d05f",
   "metadata": {},
   "outputs": [],
   "source": []
  }
 ],
 "metadata": {
  "kernelspec": {
   "display_name": "Python 3",
   "language": "python",
   "name": "python3"
  },
  "language_info": {
   "codemirror_mode": {
    "name": "ipython",
    "version": 3
   },
   "file_extension": ".py",
   "mimetype": "text/x-python",
   "name": "python",
   "nbconvert_exporter": "python",
   "pygments_lexer": "ipython3",
   "version": "3.8.8"
  }
 },
 "nbformat": 4,
 "nbformat_minor": 5
}
